{
 "cells": [
  {
   "cell_type": "code",
   "execution_count": 1,
   "metadata": {
    "id": "eW725Zi1nIto"
   },
   "outputs": [],
   "source": [
    "import numpy as np"
   ]
  },
  {
   "cell_type": "code",
   "execution_count": 2,
   "metadata": {
    "id": "Bs2pF-EinItp",
    "outputId": "f57ce94b-412e-4375-dbc1-35e5d32c5554"
   },
   "outputs": [
    {
     "name": "stdout",
     "output_type": "stream",
     "text": [
      "Solution obtained from Gaussian method: [4.26666667 1.06666667]\n",
      "Norm of Gaussian vec: 4.397979333992171\n"
     ]
    }
   ],
   "source": [
    "#Values obtained from Gaussian Elimination method\n",
    "x = 64/15\n",
    "y = 16/15\n",
    "\n",
    "gauss_vec = [x,y]       #solution obtained by Gaussian method\n",
    "gauss_vec = np.array(gauss_vec)\n",
    "gauss_norm = np.linalg.norm(gauss_vec)\n",
    "\n",
    "print(\"Solution obtained from Gaussian method:\",gauss_vec)\n",
    "print(\"Norm of Gaussian vec:\", gauss_norm)"
   ]
  },
  {
   "cell_type": "markdown",
   "metadata": {
    "id": "gPfVXjGBnItr"
   },
   "source": [
    "#### Task 4  \n",
    "Solve the system of linear equations using NumPy "
   ]
  },
  {
   "cell_type": "code",
   "execution_count": 3,
   "metadata": {
    "id": "7-2EFyaBnItw",
    "outputId": "eee7a92e-9de6-4a5d-cd03-227b28bb38db"
   },
   "outputs": [
    {
     "name": "stdout",
     "output_type": "stream",
     "text": [
      "Solution obtained from NumPy method: [[4.26666667]\n",
      " [1.06666667]]\n",
      "Norm of NumPy vec: 4.397979333992171\n"
     ]
    }
   ],
   "source": [
    "#Creating arrays for matrix A and vector b such that b vector can be written as a quantum state |0>\n",
    "\n",
    "A = np.array([[1/4, -1/16], [-1/16,1/4]])\n",
    "b = np.array([[1], [0]])\n",
    "\n",
    "numpy_vec = np.linalg.solve(A,b)\n",
    "numpy_norm = np.linalg.norm(numpy_vec)\n",
    "\n",
    "print(\"Solution obtained from NumPy method:\", numpy_vec)\n",
    "print(\"Norm of NumPy vec:\", numpy_norm)"
   ]
  },
  {
   "cell_type": "markdown",
   "metadata": {
    "id": "7sDlPP5bnItx"
   },
   "source": [
    "#### Task 5  \n",
    "Use qiskit's HHL solver to get the solution vector "
   ]
  },
  {
   "cell_type": "code",
   "execution_count": 4,
   "metadata": {
    "id": "9Usn-3xTnItx"
   },
   "outputs": [
    {
     "name": "stderr",
     "output_type": "stream",
     "text": [
      "/home/cheshta/anaconda3/lib/python3.7/site-packages/ipykernel_launcher.py:6: DeprecationWarning: The HHL class is deprecated as of Qiskit Terra 0.22.0 and will be removed\n",
      "        no sooner than 3 months after the release date.\n",
      "        It is replaced by the tutorial at https://qiskit.org/textbook/ch-applications/hhl_tutorial.html\"\n",
      "        \n",
      "  \n"
     ]
    }
   ],
   "source": [
    "from qiskit.algorithms.linear_solvers.hhl import HHL\n",
    "\n",
    "matrix = np.array([[1/4, -1/16], [-1/16,1/4]])\n",
    "vector = np.array([1, 0])\n",
    "\n",
    "hhl_solution = HHL().solve(matrix, vector)"
   ]
  },
  {
   "cell_type": "code",
   "execution_count": 5,
   "metadata": {
    "id": "J53kQCvrnItz",
    "outputId": "f83fb5e7-b589-4ecd-facd-c19fe8bdab39"
   },
   "outputs": [
    {
     "name": "stdout",
     "output_type": "stream",
     "text": [
      "      ┌────────────┐┌──────┐        ┌─────────┐\n",
      "  q4: ┤ circuit-92 ├┤3     ├────────┤3        ├\n",
      "      └────────────┘│      │┌──────┐│         │\n",
      "q5_0: ──────────────┤0     ├┤2     ├┤0        ├\n",
      "                    │  QPE ││      ││  QPE_dg │\n",
      "q5_1: ──────────────┤1     ├┤1     ├┤1        ├\n",
      "                    │      ││  1/x ││         │\n",
      "q5_2: ──────────────┤2     ├┤0     ├┤2        ├\n",
      "                    └──────┘│      │└─────────┘\n",
      "  q6: ──────────────────────┤3     ├───────────\n",
      "                            └──────┘           \n"
     ]
    }
   ],
   "source": [
    "#hhl solution does not directly give quantum state or expectation values\n",
    "print(hhl_solution.state)"
   ]
  },
  {
   "cell_type": "code",
   "execution_count": 6,
   "metadata": {
    "id": "yf4kg6-NnIt0",
    "outputId": "f6180580-f253-4d2c-92e5-377a151a993e"
   },
   "outputs": [
    {
     "name": "stdout",
     "output_type": "stream",
     "text": [
      "[0.75435554-6.43307893e-16j 0.24564446-1.63660935e-16j]\n"
     ]
    }
   ],
   "source": [
    "#Using the advantage of statevector simulator to read the qauntum state obtained. \n",
    "from qiskit.quantum_info import Statevector\n",
    "hhl_sv = Statevector(hhl_solution.state).data\n",
    "\n",
    "hhl_vec = np.array([hhl_sv[16], hhl_sv[17]])\n",
    "print(hhl_vec)"
   ]
  },
  {
   "cell_type": "code",
   "execution_count": 7,
   "metadata": {
    "id": "9M5NK8CdnIt1",
    "outputId": "4cc74487-3240-49e2-fbb3-33a4729ee078"
   },
   "outputs": [
    {
     "name": "stdout",
     "output_type": "stream",
     "text": [
      "Solution obtained from hhl method [4.02322953 1.3101038 ]\n",
      "Norm of hhl vec 4.231163887458644\n"
     ]
    }
   ],
   "source": [
    "#The above result contains imaginary parts and is not normalised. Therefore we perform the following steps\n",
    "hhl_vec = np.real(hhl_vec)\n",
    "hhl_vec = hhl_solution.euclidean_norm*hhl_vec/np.linalg.norm(hhl_vec)\n",
    "print(\"Solution obtained from hhl method\", hhl_vec)\n",
    "print(\"Norm of hhl vec\",np.linalg.norm(hhl_vec))"
   ]
  },
  {
   "cell_type": "code",
   "execution_count": 8,
   "metadata": {
    "id": "SijShbFAnIt1",
    "outputId": "83dadc80-e5f3-44df-812e-bd8151bfb848"
   },
   "outputs": [
    {
     "name": "stdout",
     "output_type": "stream",
     "text": [
      "Normalised NumPy vector:\n",
      " [[0.9701425 ]\n",
      " [0.24253563]]\n",
      "Normalised HHL vector: \n",
      " [0.95085646 0.30963202]\n"
     ]
    }
   ],
   "source": [
    "#Comparing NumPy and HHL results\n",
    "print(\"Normalised NumPy vector:\\n\",numpy_vec/np.linalg.norm(numpy_vec))\n",
    "print(\"Normalised HHL vector: \\n\", hhl_vec/np.linalg.norm(hhl_vec))"
   ]
  },
  {
   "cell_type": "code",
   "execution_count": 9,
   "metadata": {
    "id": "waLZ4QjenIt2",
    "outputId": "55e683aa-4ddd-4726-ba6f-2c1a0f48d0c5"
   },
   "outputs": [
    {
     "name": "stdout",
     "output_type": "stream",
     "text": [
      "The two solution vectors are fairly close and the HHL can be said to have a good estimate of the x vector\n"
     ]
    }
   ],
   "source": [
    "print(\"The two solution vectors are fairly close and the HHL can be said to have a good estimate of the x vector\")"
   ]
  }
 ],
 "metadata": {
  "colab": {
   "provenance": []
  },
  "kernelspec": {
   "display_name": "Python 3",
   "language": "python",
   "name": "python3"
  },
  "language_info": {
   "codemirror_mode": {
    "name": "ipython",
    "version": 3
   },
   "file_extension": ".py",
   "mimetype": "text/x-python",
   "name": "python",
   "nbconvert_exporter": "python",
   "pygments_lexer": "ipython3",
   "version": "3.7.6"
  }
 },
 "nbformat": 4,
 "nbformat_minor": 1
}
